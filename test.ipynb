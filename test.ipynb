{
 "cells": [
  {
   "cell_type": "code",
   "execution_count": null,
   "id": "f689603a",
   "metadata": {},
   "outputs": [],
   "source": [
    "pip install transformers --quiet"
   ]
  },
  {
   "cell_type": "code",
   "execution_count": null,
   "id": "144c1376",
   "metadata": {},
   "outputs": [],
   "source": [
    "pip install torch --quiet"
   ]
  },
  {
   "cell_type": "code",
   "execution_count": null,
   "id": "49564ffb",
   "metadata": {},
   "outputs": [],
   "source": [
    "pip install langchain_core --quiet"
   ]
  },
  {
   "cell_type": "markdown",
   "id": "5561169e",
   "metadata": {},
   "source": [
    "# LLM Model for Project"
   ]
  },
  {
   "cell_type": "code",
   "execution_count": null,
   "id": "d79cc00a",
   "metadata": {},
   "outputs": [],
   "source": [
    "# Load model directly\n",
    "from transformers import AutoTokenizer, AutoModelForCausalLM\n",
    "\n",
    "tokenizer = AutoTokenizer.from_pretrained(\"Qwen/Qwen3-0.6B\")\n",
    "model = AutoModelForCausalLM.from_pretrained(\"Qwen/Qwen3-0.6B\")\n",
    "messages = [\n",
    "    {\n",
    "    \t\"role\": \"user\",\n",
    "     \t\"content\": \n",
    "        \"\"\" \n",
    "        You are a dataframe expert.\n",
    "        Your mission is to follow the steps to finish the mission\n",
    "        \tfirst step: Data view analyzing and cleaning\n",
    "\t        second step: Data pre-processing\n",
    "    \t    third step: Feature engineering\n",
    "\n",
    "        Please write the python code to implement these steps.\n",
    "        \"\"\"\n",
    "    },\n",
    "]\n",
    "inputs = tokenizer.apply_chat_template(\n",
    "\tmessages,\n",
    "\tadd_generation_prompt=True,\n",
    "\ttokenize=True,\n",
    "\treturn_dict=True,\n",
    "\treturn_tensors=\"pt\",\n",
    ").to(model.device)\n",
    "\n",
    "outputs = model.generate(**inputs, max_new_tokens=2000)\n",
    "print(tokenizer.decode(outputs[0][inputs[\"input_ids\"].shape[-1]:]))"
   ]
  },
  {
   "cell_type": "code",
   "execution_count": null,
   "id": "26302caf",
   "metadata": {},
   "outputs": [],
   "source": [
    "from langchain_core.language_models import BaseChatModel\n",
    "from langchain_core.messages import AIMessage, BaseMessage\n",
    "from langchain_core.outputs import ChatResult, ChatGeneration\n",
    "from transformers import AutoTokenizer, AutoModelForCausalLM\n",
    "import torch\n",
    "\n",
    "class ChatQwen3(BaseChatModel):\n",
    "    def __init__(self, model_name=\"Qwen/Qwen3-0.6B\", device=\"cpu\"):\n",
    "        self.tokenizer = AutoTokenizer.from_pretrained(model_name)\n",
    "        self.model = AutoModelForCausalLM.from_pretrained(model_name).to(device)\n",
    "\n",
    "    @property\n",
    "    def _llm_type(self):\n",
    "        return \"qwen3-chat\"\n",
    "\n",
    "    def _generate(\n",
    "        self, messages: list[BaseMessage], stop=None, run_manager=None, **kwargs\n",
    "    ) -> ChatResult:\n",
    "        # 將多個對話訊息串接成 prompt\n",
    "        prompt = \"\"\n",
    "        for m in messages:\n",
    "            if m.type == \"human\":\n",
    "                prompt += f\"User: {m.content}\\n\"\n",
    "            else:\n",
    "                prompt += f\"Assistant: {m.content}\\n\"\n",
    "        prompt += \"Assistant:\"\n",
    "\n",
    "        input_ids = self.tokenizer(prompt, return_tensors=\"pt\").to(self.model.device)\n",
    "        outputs = self.model.generate(**input_ids, max_new_tokens=200)\n",
    "        answer = self.tokenizer.decode(outputs[0][input_ids[\"input_ids\"].shape[-1]:],\n",
    "                                       skip_special_tokens=True)\n",
    "        ai_message = AIMessage(content=answer)\n",
    "        return ChatResult(generations=[ChatGeneration(message=ai_message)])\n",
    "\n",
    "# 之後在 LangGraph 中使用 ChatQwen3 作為節點模型即可\n"
   ]
  },
  {
   "cell_type": "code",
   "execution_count": null,
   "id": "5609442a",
   "metadata": {},
   "outputs": [],
   "source": [
    "pip install scikit-learn --quiet"
   ]
  },
  {
   "cell_type": "code",
   "execution_count": null,
   "id": "fc770409",
   "metadata": {},
   "outputs": [],
   "source": [
    "\n",
    "import pandas as pd\n",
    "\n",
    "# Step 1: Data View Analysis and Cleaning\n",
    "# Sample data (replace with your actual data)\n",
    "data = pd.DataFrame({\n",
    "    'Name': ['Alice', 'Bob', 'Charlie', 'David', 'Eve'],\n",
    "    'Age': [25, 30, 22, 40, 28],\n",
    "    'Salary': [50000, 60000, 45000, 70000, 55000],\n",
    "    'Gender': ['M', 'F', 'M', 'F', 'M'],\n",
    "    'Education': ['Bachelor', 'Master', 'Doctorate', 'Bachelors', 'Master']\n",
    "})\n",
    "\n",
    "# Data Cleaning\n",
    "# Remove duplicates\n",
    "data = data.drop_duplicates(subset=['Name', 'Age', 'Gender', 'Education'])\n",
    "\n",
    "# Handle missing values\n",
    "data = data.fillna(0)\n",
    "\n",
    "# Step 2: Data Pre-processing\n",
    "# Convert categorical variables to numerical\n",
    "data = pd.get_dummies(data, columns=['Gender', 'Education'])\n",
    "\n",
    "# Step 3: Feature Engineering\n",
    "# Add new features (e.g., Age * 2)\n",
    "data['Age * 2'] = data['Age'] * 2\n",
    "data\n",
    "# Train a simple model (e.g., logistic regression)\n",
    "# from sklearn.linear_model import LogisticRegression\n",
    "# model = LogisticRegression()\n",
    "# model.fit(data[['Age * 2', 'Gender', 'Education']], data['Salary'])\n",
    "\n",
    "# # Example output\n",
    "# print(\"Preprocessed Data:\")\n",
    "# print(data.head())"
   ]
  },
  {
   "cell_type": "code",
   "execution_count": null,
   "id": "be03bbcc",
   "metadata": {},
   "outputs": [],
   "source": [
    "from langchain_experimental.utilities import PythonREPL\n",
    "repl = PythonREPL()\n",
    "@tool\n",
    "def code_execution_tool(\n",
    "    code: Annotated[str, \"Python code string which should be executed in tool\"],\n",
    "):\n",
    "    \"\"\"\n",
    "    use this tool to execute python code \n",
    "    \"\"\"\n",
    "\n",
    "    logger.info(f\"code_execution_tool is called with code:\\n {code}\\n\")\n",
    "    outcome = repl.run(code)\n",
    "\n",
    "    return json.dumps({\"Python Code\": f\"Executed python code is: {code}\",\n",
    "                       \"Outcome\": f\"Outcome after executing python code is: {outcome}\"}, ensure_ascii=False )\n"
   ]
  }
 ],
 "metadata": {
  "kernelspec": {
   "display_name": "Python 3",
   "language": "python",
   "name": "python3"
  },
  "language_info": {
   "codemirror_mode": {
    "name": "ipython",
    "version": 3
   },
   "file_extension": ".py",
   "mimetype": "text/x-python",
   "name": "python",
   "nbconvert_exporter": "python",
   "pygments_lexer": "ipython3",
   "version": "3.10.10"
  }
 },
 "nbformat": 4,
 "nbformat_minor": 5
}
